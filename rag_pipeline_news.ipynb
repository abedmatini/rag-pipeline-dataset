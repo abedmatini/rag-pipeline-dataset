{
 "cells": [
  {
   "cell_type": "markdown",
   "id": "7a275392",
   "metadata": {},
   "source": [
    "\n",
    "## 1 Importing the necessary libraries\n",
    "\n",
    "Run the cell below to import the necessary libraries for this assignment."
   ]
  },
  {
   "cell_type": "code",
   "execution_count": null,
   "id": "868905ac",
   "metadata": {},
   "outputs": [],
   "source": [
    "from utils import (\n",
    "    retrieve, \n",
    "    pprint, \n",
    "    generate_with_single_input, \n",
    "    read_dataframe, \n",
    "    display_widget\n",
    ")\n",
    "import unittests"
   ]
  },
  {
   "cell_type": "markdown",
   "id": "52c33ce1",
   "metadata": {},
   "source": [
    "## 2 - Loading the dataset"
   ]
  },
  {
   "cell_type": "code",
   "execution_count": null,
   "id": "fa472150",
   "metadata": {},
   "outputs": [],
   "source": [
    "NEWS_DATA = read_dataframe(\"news_data_dedup.csv\")"
   ]
  },
  {
   "cell_type": "markdown",
   "id": "49079c91",
   "metadata": {},
   "source": [
    "Let's check the data structure."
   ]
  },
  {
   "cell_type": "code",
   "execution_count": null,
   "id": "66057196",
   "metadata": {},
   "outputs": [],
   "source": [
    "pprint(NEWS_DATA[9:12])"
   ]
  },
  {
   "cell_type": "code",
   "execution_count": null,
   "id": "0ad27afc",
   "metadata": {},
   "outputs": [],
   "source": [
    "def query_news(indices):\n",
    "    \"\"\"\n",
    "    Retrieves elements from a dataset based on specified indices.\n",
    "\n",
    "    Parameters:\n",
    "    indices (list of int): A list containing the indices of the desired elements in the dataset.\n",
    "    dataset (list or sequence): The dataset from which elements are to be retrieved. It should support indexing.\n",
    "\n",
    "    Returns:\n",
    "    list: A list of elements from the dataset corresponding to the indices provided in list_of_indices.\n",
    "    \"\"\"\n",
    "     \n",
    "    output = [NEWS_DATA[index] for index in indices]\n",
    "\n",
    "    return output"
   ]
  },
  {
   "cell_type": "code",
   "execution_count": null,
   "id": "9ad49149",
   "metadata": {},
   "outputs": [],
   "source": [
    "# Fetching some indices\n",
    "indices = [3, 6, 9]\n",
    "pprint(query_news(indices))"
   ]
  },
  {
   "cell_type": "code",
   "execution_count": null,
   "id": "90186e41",
   "metadata": {},
   "outputs": [],
   "source": [
    "# Let's test the retrieve function!\n",
    "indices = retrieve(\"Regulations about Autopilot\", top_k = 1)\n",
    "print(indices)"
   ]
  },
  {
   "cell_type": "code",
   "execution_count": null,
   "id": "ea67e440",
   "metadata": {},
   "outputs": [],
   "source": [
    "# Now let's query the corresponding news_\n",
    "retrieved_documents = query_news(indices)\n",
    "pprint(retrieved_documents)"
   ]
  },
  {
   "cell_type": "code",
   "execution_count": null,
   "id": "8459f4dd",
   "metadata": {},
   "outputs": [],
   "source": [
    "# GRADED CELL \n",
    "\n",
    "def get_relevant_data(query: str, top_k: int = 5) -> list[dict]:\n",
    "    \"\"\"\n",
    "    Retrieve and return the top relevant data items based on a given query.\n",
    "\n",
    "    This function performs the following steps:\n",
    "    1. Retrieves the indices of the top 'k' relevant items from a dataset based on the provided `query`.\n",
    "    2. Fetches the corresponding data for these indices from the dataset.\n",
    "\n",
    "    Parameters:\n",
    "    - query (str): The search query string used to find relevant items.\n",
    "    - top_k (int, optional): The number of top items to retrieve. Default is 5.\n",
    "\n",
    "    Returns:\n",
    "    - list[dict]: A list of dictionaries containing the data associated \n",
    "      with the top relevant items.\n",
    "\n",
    "    \"\"\"\n",
    "    ### START CODE HERE ###\n",
    "\n",
    "    # Retrieve the indices of the top_k relevant items given the query\n",
    "    relevant_indices = retrieve(query, top_k)\n",
    "\n",
    "    # Obtain the data related to the items using the indices from the previous step\n",
    "    relevant_data = query_news(relevant_indices)\n",
    "\n",
    "    ### END CODE HERE\n",
    "    \n",
    "    return relevant_data"
   ]
  },
  {
   "cell_type": "code",
   "execution_count": null,
   "id": "983d2ea7",
   "metadata": {},
   "outputs": [],
   "source": [
    "query = \"Greatest storms in the US\"\n",
    "relevant_data = get_relevant_data(query, top_k = 1)\n",
    "pprint(relevant_data)"
   ]
  },
  {
   "cell_type": "code",
   "execution_count": null,
   "id": "7b5a8e13",
   "metadata": {},
   "outputs": [],
   "source": [
    "# Run this cell to perform several tests on your function. If you receive \"All test passed!\" it means that your solution will likely pass the autograder too.\n",
    "unittests.test_get_relevant_data(get_relevant_data)"
   ]
  }
 ],
 "metadata": {
  "kernelspec": {
   "display_name": "Python 3",
   "language": "python",
   "name": "python3"
  },
  "language_info": {
   "codemirror_mode": {
    "name": "ipython",
    "version": 3
   },
   "file_extension": ".py",
   "mimetype": "text/x-python",
   "name": "python",
   "nbconvert_exporter": "python",
   "pygments_lexer": "ipython3",
   "version": "3.12.6"
  }
 },
 "nbformat": 4,
 "nbformat_minor": 5
}
