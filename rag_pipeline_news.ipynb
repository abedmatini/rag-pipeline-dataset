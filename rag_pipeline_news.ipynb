{
 "cells": [
  {
   "cell_type": "markdown",
   "id": "7a275392",
   "metadata": {},
   "source": [
    "\n",
    "## 1 Importing the necessary libraries\n",
    "\n",
    "Run the cell below to import the necessary libraries for this assignment."
   ]
  },
  {
   "cell_type": "code",
   "execution_count": null,
   "id": "868905ac",
   "metadata": {},
   "outputs": [],
   "source": [
    "from utils import (\n",
    "    retrieve, \n",
    "    pprint, \n",
    "    generate_with_single_input, \n",
    "    read_dataframe, \n",
    "    display_widget\n",
    ")\n",
    "import unittests"
   ]
  },
  {
   "cell_type": "markdown",
   "id": "52c33ce1",
   "metadata": {},
   "source": [
    "## 2 - Loading the dataset"
   ]
  },
  {
   "cell_type": "code",
   "execution_count": null,
   "id": "fa472150",
   "metadata": {},
   "outputs": [],
   "source": [
    "NEWS_DATA = read_dataframe(\"news_data_dedup.csv\")"
   ]
  },
  {
   "cell_type": "markdown",
   "id": "49079c91",
   "metadata": {},
   "source": [
    "Let's check the data structure."
   ]
  },
  {
   "cell_type": "code",
   "execution_count": null,
   "id": "66057196",
   "metadata": {},
   "outputs": [],
   "source": [
    "pprint(NEWS_DATA[9:12])"
   ]
  },
  {
   "cell_type": "code",
   "execution_count": null,
   "id": "0ad27afc",
   "metadata": {},
   "outputs": [],
   "source": [
    "def query_news(indices):\n",
    "    \"\"\"\n",
    "    Retrieves elements from a dataset based on specified indices.\n",
    "\n",
    "    Parameters:\n",
    "    indices (list of int): A list containing the indices of the desired elements in the dataset.\n",
    "    dataset (list or sequence): The dataset from which elements are to be retrieved. It should support indexing.\n",
    "\n",
    "    Returns:\n",
    "    list: A list of elements from the dataset corresponding to the indices provided in list_of_indices.\n",
    "    \"\"\"\n",
    "     \n",
    "    output = [NEWS_DATA[index] for index in indices]\n",
    "\n",
    "    return output"
   ]
  },
  {
   "cell_type": "code",
   "execution_count": null,
   "id": "9ad49149",
   "metadata": {},
   "outputs": [],
   "source": [
    "# Fetching some indices\n",
    "indices = [3, 6, 9]\n",
    "pprint(query_news(indices))"
   ]
  },
  {
   "cell_type": "code",
   "execution_count": null,
   "id": "90186e41",
   "metadata": {},
   "outputs": [],
   "source": [
    "# Let's test the retrieve function!\n",
    "indices = retrieve(\"Regulations about Autopilot\", top_k = 1)\n",
    "print(indices)"
   ]
  },
  {
   "cell_type": "code",
   "execution_count": null,
   "id": "ea67e440",
   "metadata": {},
   "outputs": [],
   "source": [
    "# Now let's query the corresponding news_\n",
    "retrieved_documents = query_news(indices)\n",
    "pprint(retrieved_documents)"
   ]
  },
  {
   "cell_type": "code",
   "execution_count": null,
   "id": "8459f4dd",
   "metadata": {},
   "outputs": [],
   "source": [
    "# GRADED CELL \n",
    "\n",
    "def get_relevant_data(query: str, top_k: int = 5) -> list[dict]:\n",
    "    \"\"\"\n",
    "    Retrieve and return the top relevant data items based on a given query.\n",
    "\n",
    "    This function performs the following steps:\n",
    "    1. Retrieves the indices of the top 'k' relevant items from a dataset based on the provided `query`.\n",
    "    2. Fetches the corresponding data for these indices from the dataset.\n",
    "\n",
    "    Parameters:\n",
    "    - query (str): The search query string used to find relevant items.\n",
    "    - top_k (int, optional): The number of top items to retrieve. Default is 5.\n",
    "\n",
    "    Returns:\n",
    "    - list[dict]: A list of dictionaries containing the data associated \n",
    "      with the top relevant items.\n",
    "\n",
    "    \"\"\"\n",
    "    ### START CODE HERE ###\n",
    "\n",
    "    # Retrieve the indices of the top_k relevant items given the query\n",
    "    relevant_indices = retrieve(query, top_k)\n",
    "\n",
    "    # Obtain the data related to the items using the indices from the previous step\n",
    "    relevant_data = query_news(relevant_indices)\n",
    "\n",
    "    ### END CODE HERE\n",
    "    \n",
    "    return relevant_data"
   ]
  },
  {
   "cell_type": "code",
   "execution_count": null,
   "id": "983d2ea7",
   "metadata": {},
   "outputs": [],
   "source": [
    "query = \"Greatest storms in the US\"\n",
    "relevant_data = get_relevant_data(query, top_k = 1)\n",
    "pprint(relevant_data)"
   ]
  },
  {
   "cell_type": "code",
   "execution_count": null,
   "id": "7b5a8e13",
   "metadata": {},
   "outputs": [],
   "source": [
    "# Run this cell to perform several tests on your function. If you receive \"All test passed!\" it means that your solution will likely pass the autograder too.\n",
    "unittests.test_get_relevant_data(get_relevant_data)"
   ]
  },
  {
   "cell_type": "markdown",
   "id": "e7ab4851",
   "metadata": {},
   "source": [
    "## Formatting the relevant Data\n",
    "\n",
    " It’s recommended to use double quotes for strings and single quotes for dictionary keys (for example, data['title']). Here’s one way you could format it:\n",
    "\n",
    "f\"\"\"\n",
    "Title: {news_1_title}, Description: {news_1_description}, Published at: {news_1_published_date}\\nURL: {news_1_URL}\n",
    "Title: {news_2_title}, Description: {news_2_description}, Published at: {news_2_published_date}\\nURL: {news_2_URL}\n",
    "...\n",
    "Title: {news_k_title}, Description: {news_k_description}, Published at: {news_k_published_date}\\nURL: {news_k_URL}\n",
    "\"\"\""
   ]
  },
  {
   "cell_type": "code",
   "execution_count": 60,
   "id": "51977f1d",
   "metadata": {},
   "outputs": [],
   "source": [
    "# GRADED CELL\n",
    "\n",
    "def format_relevant_data(relevant_data):\n",
    "    \"\"\"\n",
    "    Retrieves the top_k most relevant documents based on a given query and constructs an augmented prompt for a RAG system.\n",
    "\n",
    "    Parameters:\n",
    "    relevant_data (list): A list with relevant data.\n",
    "\n",
    "    Returns:\n",
    "    str: An augmented prompt with the top_k relevant documents, formatted for use in a Retrieval-Augmented Generation (RAG) system.\"\n",
    "    \"\"\"\n",
    "\n",
    "    ### START CODE HERE ###\n",
    "\n",
    "    # Create a list so store the formatted documents\n",
    "    formatted_documents = []\n",
    "    \n",
    "    # Iterates over each relevant document.\n",
    "    for document in relevant_data:\n",
    "\n",
    "        # Formats each document into a structured layout string. Remember that each document is in one different line. So you should add a new line character after each document added.\n",
    "        formatted_document = f\"Title: {document['title']}, Description: {document['description']}, Published at: {document['published_at']}\\nURL: {document['url']}\"\n",
    "        \n",
    "        # Append the formatted document string to the formatted_documents list\n",
    "        formatted_documents.append(formatted_document)\n",
    "    \n",
    "    ### END CODE HERE ###\n",
    "    \n",
    "    # Returns the final augmented prompt string.\n",
    "\n",
    "    return \"\\n\".join(formatted_documents)"
   ]
  },
  {
   "cell_type": "code",
   "execution_count": 61,
   "id": "07460e05",
   "metadata": {},
   "outputs": [
    {
     "name": "stdout",
     "output_type": "stream",
     "text": [
      "Title: Prosecutors ask for halt to case against Spain PM's wife, Description: Pedro Sánchez is deciding whether to resign after a case against his wife by an anti-corruption group., Published at: 2024-04-25\n",
      "URL: https://www.bbc.co.uk/news/world-europe-68895727\n",
      "Title: WATCH: Would you pay a tourist fee to enter Venice?, Description: From Thursday visitors making a trip to the famous city at peak times will be charged a trial entrance fee., Published at: 2024-04-25\n",
      "URL: https://www.bbc.co.uk/news/world-europe-68898441\n",
      "Title: Supreme Court divided on whether Trump has immunity, Description: The justices discussed immunity, coups, pardons, Operation Mongoose - and the future of democracy., Published at: 2024-04-25\n",
      "URL: https://www.bbc.co.uk/news/world-us-canada-68901817\n",
      "Title: More than 150 killed as heavy rains pound Tanzania, Description: The prime minister warns that El Niño-triggered heavy rains are likely to continue into May., Published at: 2024-04-25\n",
      "URL: https://www.bbc.co.uk/news/world-africa-68896454\n"
     ]
    }
   ],
   "source": [
    "example_data = NEWS_DATA[4:8]\n",
    "print(format_relevant_data(example_data))"
   ]
  },
  {
   "cell_type": "code",
   "execution_count": 62,
   "id": "7f4f0fbe",
   "metadata": {},
   "outputs": [
    {
     "name": "stdout",
     "output_type": "stream",
     "text": [
      "✅ Test 1: PASSED\n",
      "✅ Test 2: PASSED\n",
      "✅ Test 3: PASSED\n",
      "✅ Test 4: PASSED\n",
      "✅ Test 5: PASSED\n",
      "✅ Test 6: PASSED\n",
      "✅ Test 7: PASSED\n",
      "✅ Test 8: PASSED\n",
      "\n",
      "Results: 8/8 tests passed\n",
      "🎉 All tests passed!\n"
     ]
    }
   ],
   "source": [
    "# Test your function!\n",
    "unittests.test_format_relevant_data(format_relevant_data)"
   ]
  }
 ],
 "metadata": {
  "kernelspec": {
   "display_name": "Python 3",
   "language": "python",
   "name": "python3"
  },
  "language_info": {
   "codemirror_mode": {
    "name": "ipython",
    "version": 3
   },
   "file_extension": ".py",
   "mimetype": "text/x-python",
   "name": "python",
   "nbconvert_exporter": "python",
   "pygments_lexer": "ipython3",
   "version": "3.12.6"
  }
 },
 "nbformat": 4,
 "nbformat_minor": 5
}
